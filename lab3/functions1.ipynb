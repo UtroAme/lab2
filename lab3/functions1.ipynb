{
 "cells": [
  {
   "cell_type": "code",
   "execution_count": 28,
   "metadata": {},
   "outputs": [
    {
     "name": "stdout",
     "output_type": "stream",
     "text": [
      "28.35 ounces\n",
      "10 ounces\n"
     ]
    }
   ],
   "source": [
    "#Task1\n",
    "class Weight():\n",
    "    def __init__(self, m, unit):\n",
    "      self.m = m\n",
    "      self.unit = unit\n",
    "      \n",
    "\n",
    "    def toOunces(self):\n",
    "      if self.unit.lower() == \"grams\"  :\n",
    "         return f\"{(28.3495231 * self.m):.2f} ounces\"\n",
    "      return f\"{self.m} ounces\"\n",
    "        \n",
    "      \n",
    "w1 = Weight(1, \"Grams\")\n",
    "w2 = Weight(10, \"ounces\")\n",
    "\n",
    "print(w1.toOunces())\n",
    "print(w2.toOunces())"
   ]
  },
  {
   "cell_type": "code",
   "execution_count": 27,
   "metadata": {},
   "outputs": [
    {
     "name": "stdout",
     "output_type": "stream",
     "text": [
      "37.78 C\n",
      "37 C\n"
     ]
    }
   ],
   "source": [
    "#Task2 \n",
    "class Temperature():\n",
    "    def __init__(self, t, unit):\n",
    "       self.t=t\n",
    "       self.unit=unit\n",
    "\n",
    "    def conversion(self):\n",
    "       if self.unit.upper() == \"F\":\n",
    "          return f\"{((5/9) * (self.t - 32)):.2f} C\"\n",
    "       return f\"{self.t} C\"\n",
    "    \n",
    "T1 = Temperature(100, \"F\")\n",
    "T2 = Temperature(37, \"C\")\n",
    "print(T1.conversion())\n",
    "print(T2.conversion())"
   ]
  },
  {
   "cell_type": "code",
   "execution_count": 30,
   "metadata": {},
   "outputs": [
    {
     "name": "stdout",
     "output_type": "stream",
     "text": [
      "Rabbits:12, Chikens:23\n"
     ]
    }
   ],
   "source": [
    "#Task 3\n",
    "class puzzle():\n",
    "    def __init__ (self, heads, legs):\n",
    "        self.heads = heads\n",
    "        self.legs = legs\n",
    "    \n",
    "    def solution(self,):\n",
    "        rabbits = (self.legs - 2 * self.heads) // 2 \n",
    "        chickens = self.heads - rabbits\n",
    "\n",
    "        return f\"Rabbits:{rabbits}, Chikens:{chickens}\"\n",
    "\n",
    "p1 = puzzle(35, 94)\n",
    "print(p1.solution())"
   ]
  }
 ],
 "metadata": {
  "kernelspec": {
   "display_name": "Python 3",
   "language": "python",
   "name": "python3"
  },
  "language_info": {
   "codemirror_mode": {
    "name": "ipython",
    "version": 3
   },
   "file_extension": ".py",
   "mimetype": "text/x-python",
   "name": "python",
   "nbconvert_exporter": "python",
   "pygments_lexer": "ipython3",
   "version": "3.13.1"
  }
 },
 "nbformat": 4,
 "nbformat_minor": 2
}
