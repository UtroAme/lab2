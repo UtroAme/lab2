{
 "cells": [
  {
   "cell_type": "markdown",
   "metadata": {},
   "source": [
    "pass == empty function \n",
    "/ position\n",
    "* c = 7 <-ex\n"
   ]
  },
  {
   "cell_type": "code",
   "execution_count": null,
   "metadata": {},
   "outputs": [],
   "source": [
    "class Time: \n",
    "    def __init__(self, hour, min, sec):\n",
    "        self.hour = hour\n",
    "        self.min = min\n",
    "        self.sec = sec\n",
    "\n",
    "    def __str__(self):\n",
    "     s = \"\"\n",
    "     if self.hour<10:\n",
    "        s+= \"0\"+str(self.hour)\n",
    "     else:\n",
    "        s+= str(self.hour)\n",
    "\n",
    "     if self.min\n",
    "    "
   ]
  },
  {
   "cell_type": "code",
   "execution_count": null,
   "metadata": {},
   "outputs": [],
   "source": [
    "#merge sort\n",
    "def mergeSort(array):\n",
    "    if len(array) > 1:\n",
    "\n",
    "        r = len(array)//2\n",
    "        L = array[:r]\n",
    "        M = array[r:]\n",
    "\n",
    "        mergeSort(L)\n",
    "        mergeSort(M)\n",
    "\n",
    "        i = j = k = 0\n",
    "\n",
    "        while i < len(L) and j < len(M):\n",
    "            if L[i] < M[j]:\n",
    "                array[k] = L[i]\n",
    "                i += 1\n",
    "            else:\n",
    "                array[k] = M[j]\n",
    "                j += 1\n",
    "            k += 1\n",
    "\n",
    "            while i "
   ]
  }
 ],
 "metadata": {
  "kernelspec": {
   "display_name": "Python 3",
   "language": "python",
   "name": "python3"
  },
  "language_info": {
   "name": "python",
   "version": "3.13.1"
  }
 },
 "nbformat": 4,
 "nbformat_minor": 2
}
